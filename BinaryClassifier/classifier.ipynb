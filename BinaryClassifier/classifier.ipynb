{
 "cells": [
  {
   "cell_type": "code",
   "execution_count": 10,
   "metadata": {},
   "outputs": [],
   "source": [
    "# Imports \n",
    "import os\n",
    "import re\n",
    "import pandas as pd\n",
    "from sentence_transformers import SentenceTransformer\n",
    "from sklearn.model_selection import train_test_split\n",
    "from sklearn.feature_extraction.text import TfidfVectorizer\n",
    "from sklearn.linear_model import LogisticRegression\n",
    "from sklearn.metrics import classification_report, accuracy_score"
   ]
  },
  {
   "cell_type": "code",
   "execution_count": 11,
   "metadata": {},
   "outputs": [],
   "source": [
    "# File stuff \n",
    "# 1. Load data from WinoBias/wino/data directory\n",
    "def load_sentences_from_file(filepath, label):\n",
    "    with open(filepath, 'r', encoding='utf-8') as f:\n",
    "        lines = f.readlines()\n",
    "    data = []\n",
    "    for line in lines:\n",
    "        line = line.strip().replace('[', '').replace(']', '')  # Remove brackets such as []\n",
    "        data.append({'sentence': line, 'label': label})\n",
    "    return data\n",
    "\n",
    "\n",
    "# Folder path\n",
    "folder = 'datasets/WinoBias/data'\n",
    "\n",
    "# File-label mapping: 1 = gender biased, 0 = gender neutral\n",
    "file_labels = {\n",
    "    'anti_stereotyped_type1.txt': 0,\n",
    "    'anti_stereotyped_type2.txt': 0,\n",
    "    'pro_stereotyped_type1.txt': 1,\n",
    "    'pro_stereotyped_type2.txt': 1,\n",
    "}"
   ]
  },
  {
   "cell_type": "code",
   "execution_count": 14,
   "metadata": {},
   "outputs": [
    {
     "name": "stdout",
     "output_type": "stream",
     "text": [
      "                                            sentence  label\n",
      "0  1 The developer argued with the designer becau...      0\n",
      "1  2 The developer argued with the designer becau...      0\n",
      "2  3 The mechanic gave the clerk a present becaus...      0\n",
      "3  4 The mechanic gave the clerk a present becaus...      0\n",
      "4  5 The mover said thank you to the housekeeper ...      0\n"
     ]
    },
    {
     "name": "stderr",
     "output_type": "stream",
     "text": [
      "Batches: 100%|██████████| 50/50 [00:00<00:00, 53.98it/s]"
     ]
    },
    {
     "name": "stdout",
     "output_type": "stream",
     "text": [
      "Accuracy: 0.26498422712933756\n",
      "Report:\n",
      "               precision    recall  f1-score   support\n",
      "\n",
      "           0       0.24      0.18      0.20       167\n",
      "           1       0.28      0.36      0.32       150\n",
      "\n",
      "    accuracy                           0.26       317\n",
      "   macro avg       0.26      0.27      0.26       317\n",
      "weighted avg       0.26      0.26      0.26       317\n",
      "\n"
     ]
    },
    {
     "name": "stderr",
     "output_type": "stream",
     "text": [
      "\n"
     ]
    }
   ],
   "source": [
    "# Main bulk\n",
    "all_data = []\n",
    "for fname, label in file_labels.items():\n",
    "    path = os.path.join(folder, fname)\n",
    "    all_data.extend(load_sentences_from_file(path, label))\n",
    "\n",
    "df = pd.DataFrame(all_data)\n",
    "print(df.head())\n",
    "\n",
    "# Optionally save dataset\n",
    "# df.to_csv('word_bias_dataset.csv', index=False)\n",
    "\n",
    "# 2. Preprocessing steps\n",
    "model = SentenceTransformer('all-MiniLM-L6-v2')\n",
    "# model = SentenceTransformer('all-mpnet-base-v2')    \n",
    "X = model.encode(df['sentence'], show_progress_bar=True)\n",
    "y = df['label']\n",
    "\n",
    "# 3. Convert words to features (TF-IDF Vectorizer)\n",
    "# vectorizer = TfidfVectorizer(analyzer='char_wb', ngram_range=(2,4))\n",
    "# vectorizer = TfidfVectorizer()\n",
    "# X_vec = vectorizer.fit_transform(X)\n",
    "\n",
    "# 4. Train-test split\n",
    "X_train, X_test, y_train, y_test = train_test_split(X, y, test_size=0.2, random_state=42)\n",
    "\n",
    "# 5. Train the model\n",
    "classifier = LogisticRegression(max_iter = 1000)\n",
    "classifier.fit(X_train, y_train)\n",
    "\n",
    "# 6. Evaluate the model\n",
    "y_pred = classifier.predict(X_test)\n",
    "print(\"Accuracy:\", accuracy_score(y_test, y_pred))\n",
    "print(\"Report:\\n\", classification_report(y_test, y_pred))\n",
    "\n",
    "# 7. Make predictions\n",
    "# def predict_bias(word):\n",
    "#     word_vec = vectorizer.transform([word])\n",
    "#     prediction = classifier.predict(word_vec)\n",
    "#     return \"Gender Biased\" if prediction[0] == 1 else \"Gender Neutral\"\n",
    "\n",
    "# # Example\n",
    "# print(predict_bias(\"nurse\"))\n",
    "# print(predict_bias(\"engineer\"))\n",
    "# print(predict_bias(\"teacher\"))\n",
    "# print(predict_bias(\"programmer\"))\n",
    "\n"
   ]
  },
  {
   "cell_type": "code",
   "execution_count": 15,
   "metadata": {},
   "outputs": [
    {
     "name": "stderr",
     "output_type": "stream",
     "text": [
      "Batches: 100%|██████████| 50/50 [00:01<00:00, 40.17it/s]"
     ]
    },
    {
     "name": "stdout",
     "output_type": "stream",
     "text": [
      "\n",
      "=== EVALUATION ON .test SET ===\n",
      "Accuracy: 0.4943181818181818\n",
      "Report:\n",
      "               precision    recall  f1-score   support\n",
      "\n",
      "           0       0.49      0.45      0.47       792\n",
      "           1       0.49      0.53      0.51       792\n",
      "\n",
      "    accuracy                           0.49      1584\n",
      "   macro avg       0.49      0.49      0.49      1584\n",
      "weighted avg       0.49      0.49      0.49      1584\n",
      "\n"
     ]
    },
    {
     "name": "stderr",
     "output_type": "stream",
     "text": [
      "\n"
     ]
    }
   ],
   "source": [
    "# Load test\n",
    "def load_test_data(folder):\n",
    "    test_files = [f for f in os.listdir(folder) if f.endswith('.test')]\n",
    "    test_data = []\n",
    "    for fname in test_files:\n",
    "        label = 1 if 'pro' in fname else 0\n",
    "        test_data.extend(load_sentences_from_file(os.path.join(folder, fname), label))\n",
    "    return pd.DataFrame(test_data)\n",
    "\n",
    "df_test = load_test_data(folder)\n",
    "X_eval = model.encode(df_test['sentence'], show_progress_bar=True)\n",
    "y_eval = df_test['label']\n",
    "\n",
    "y_eval_pred = classifier.predict(X_eval)\n",
    "print(\"\\n=== EVALUATION ON .test SET ===\")\n",
    "print(\"Accuracy:\", accuracy_score(y_eval, y_eval_pred))\n",
    "print(\"Report:\\n\", classification_report(y_eval, y_eval_pred))"
   ]
  }
 ],
 "metadata": {
  "kernelspec": {
   "display_name": "bert_env",
   "language": "python",
   "name": "python3"
  },
  "language_info": {
   "codemirror_mode": {
    "name": "ipython",
    "version": 3
   },
   "file_extension": ".py",
   "mimetype": "text/x-python",
   "name": "python",
   "nbconvert_exporter": "python",
   "pygments_lexer": "ipython3",
   "version": "3.10.16"
  }
 },
 "nbformat": 4,
 "nbformat_minor": 2
}
